{
 "cells": [
  {
   "cell_type": "markdown",
   "metadata": {},
   "source": []
  },
  {
   "cell_type": "markdown",
   "metadata": {},
   "source": [
    "# GIS 712, 2023: Environmental Earth Observation and Remote Sensing  \n",
    "## Introduction to Python data types and structures\n",
    "\n",
    "Data is commonly organized and stored in structures so that they can be accessed and manipulated more efficiently. These structures define the different relationship between the data and the possible operations that can be performed.   \n",
    "\n",
    "![](data/image.png)"
   ]
  },
  {
   "cell_type": "markdown",
   "metadata": {},
   "source": []
  },
  {
   "cell_type": "markdown",
   "metadata": {},
   "source": [
    "### A quick recap on how to create a conda environment using a YAML file.  \n",
    "\n",
    "Open the Anaconda Prompt (PC users)/Terminal (Mac users) and navigate to the directory where the files for intro_python.ipynb and GIS712.yml are located. Then run the commands below:\n",
    "\n",
    "```\n",
    "# to check your envs\n",
    "conda info --envs\n",
    "\n",
    "# to create a new one\n",
    "conda env create --file = GIS712.YAML\n",
    "\n",
    "# to activate the new env\n",
    "conda activate GIS712\n",
    "\n",
    "```"
   ]
  },
  {
   "cell_type": "markdown",
   "metadata": {},
   "source": [
    "## Primitive Data types\n",
    "### Integers  \n",
    "Represented by int() class. It is a positive or negative whole number. In python there is no limit on how long the integer can be. \n"
   ]
  },
  {
   "cell_type": "code",
   "execution_count": null,
   "metadata": {
    "tags": []
   },
   "outputs": [],
   "source": [
    "# interger example\n",
    "a = 8\n",
    "b = 7\n",
    "\n",
    "# print messages\n",
    "print(\"Type of a: \", type(a)) \n",
    "\n",
    "# operations\n",
    "c = a + b\n",
    "print(\"Sum of a and b is: \", c) "
   ]
  },
  {
   "cell_type": "markdown",
   "metadata": {},
   "source": [
    "### Floats  \n",
    "Represented by float() class. It is a real number with floating point representation. "
   ]
  },
  {
   "cell_type": "code",
   "execution_count": null,
   "metadata": {
    "tags": []
   },
   "outputs": [],
   "source": [
    "# pi is a float!\n",
    "pi = 3.14159265359\n",
    "print(pi)\n",
    "print(type(pi))"
   ]
  },
  {
   "cell_type": "markdown",
   "metadata": {},
   "source": [
    "### Strings  \n",
    "Represented by str() class. Strings are defined by apostrophes or quotation marks, and they are indexed and in sequence.\n",
    "\n"
   ]
  },
  {
   "cell_type": "code",
   "execution_count": null,
   "metadata": {
    "tags": []
   },
   "outputs": [],
   "source": [
    "string = 'Remote sensing is art!' \n",
    "string2 = \"And Earth observation is exciting\"\n",
    "print(string)\n",
    "\n",
    "# indexing to print different parts of the string\n",
    "print(string[0:5],string[10:15])\n",
    "\n",
    "# add both strings\n",
    "print(string + ' ' + string2 + '.')\n",
    "\n",
    "### OLDER STYLE\n",
    "# using .format method to customize messages\n",
    "print('string: {0} and string2: {1}'.format(string, string2))\n",
    "\n",
    "### NEWER STYLE\n",
    "# using f-string method to customize messages\n",
    "print(f'string: {string} and string2: {string2}')\n",
    "\n",
    "print(f'{string}, hello')"
   ]
  },
  {
   "cell_type": "code",
   "execution_count": null,
   "metadata": {
    "tags": []
   },
   "outputs": [],
   "source": [
    "# What happens when we want to add an integer to a string?\n",
    "var1 = 25\n",
    "var2 = '3'\n",
    "\n",
    "print(var1 + var2)"
   ]
  },
  {
   "cell_type": "markdown",
   "metadata": {},
   "source": [
    "We got an error! Error messages can be very helpful for debugging code. The first thing to look for is what kind of error we got. In this case, it is a `TypeError`. \n",
    "\n",
    "Why do you think we got a `TypeError`?\n",
    "\n",
    "The next thing to look at is the error message, which comes after the error type. In this case, our error message is `unsupported operand type(s) for +: 'int' and 'str'`.\n",
    "\n",
    "This message is telling us that we cannot use the operand `+` between an integer variable and a string variable. \n",
    "\n",
    "How can we fix this error?"
   ]
  },
  {
   "cell_type": "code",
   "execution_count": null,
   "metadata": {},
   "outputs": [],
   "source": [
    "print(var1 + int(var2))"
   ]
  },
  {
   "cell_type": "markdown",
   "metadata": {},
   "source": [
    "What happens if we cast `var1` to a string? Try it out!"
   ]
  },
  {
   "cell_type": "code",
   "execution_count": null,
   "metadata": {},
   "outputs": [],
   "source": [
    "# ADD YOUR CODE HERE\n",
    "\n"
   ]
  },
  {
   "cell_type": "markdown",
   "metadata": {},
   "source": [
    "### Booleans  \n",
    "\n",
    "Data type with one of the two built-in values, **True** or **False**. Booleans are very useful to control the flow of code. For instance, different scenarios can happen if a variable is TRUE or FALSE.\n",
    "\n",
    "### Boolean logical operators  \n",
    "**or**:     Will evaluate to **True** if at least one (but not necessarily both) statements are **True**  \n",
    "\n",
    "**and**:    Will evaluate to **True** only if both statements are **True**  \n",
    "\n",
    "**not**:    Reverses the result of the statement  \n",
    "\n",
    "### Boolean comparison operators include:  \n",
    "equal: `==`  \n",
    "\n",
    "not equal: `!=`  \n",
    "\n",
    "greater or equal than: `>=`   \n",
    "\n",
    "less or equal than: `<=`  \n",
    "\n",
    "greater than: `>`   \n",
    "\n",
    "less than: `<`  "
   ]
  },
  {
   "cell_type": "code",
   "execution_count": null,
   "metadata": {},
   "outputs": [],
   "source": [
    "# Test for equality\n",
    "'AAA' == 'BBBx'"
   ]
  },
  {
   "cell_type": "code",
   "execution_count": null,
   "metadata": {},
   "outputs": [],
   "source": [
    "# show data type\n",
    "type('AAA' == 'BBBx')"
   ]
  },
  {
   "cell_type": "code",
   "execution_count": null,
   "metadata": {},
   "outputs": [],
   "source": [
    "# define str sequence\n",
    "a = 'AAPT'\n",
    "b = 89"
   ]
  },
  {
   "cell_type": "code",
   "execution_count": null,
   "metadata": {},
   "outputs": [],
   "source": [
    "# AND conditional\n",
    "a == 'CGC' and a == 'AGU'"
   ]
  },
  {
   "cell_type": "code",
   "execution_count": null,
   "metadata": {},
   "outputs": [],
   "source": [
    "# OR conditional\n",
    "a == 'CGC' or a == 'AAPT'"
   ]
  },
  {
   "cell_type": "code",
   "execution_count": null,
   "metadata": {},
   "outputs": [],
   "source": [
    "# reverse results\n",
    "not (a == 'CGC') "
   ]
  },
  {
   "cell_type": "code",
   "execution_count": null,
   "metadata": {},
   "outputs": [],
   "source": [
    "# Combined AND-OR conditional (evaluated from left to right)\n",
    "\n",
    "## (FALSE     or  TRUE)\n",
    "##          TRUE              and    TRUE\n",
    "(a == 'AGU') or (a == 'AAPT') and (b == 89)"
   ]
  },
  {
   "cell_type": "markdown",
   "metadata": {},
   "source": [
    "Write a Boolean expression using `!=`, `>=`, `<`, `not`, and `or` that yields a **True** Boolean value"
   ]
  },
  {
   "cell_type": "code",
   "execution_count": null,
   "metadata": {},
   "outputs": [],
   "source": [
    "#### ADD YOUR CODE HERE\n",
    "\n"
   ]
  },
  {
   "cell_type": "markdown",
   "metadata": {},
   "source": [
    "## Non-Primitive Data types\n",
    "### Arrays\n",
    "Numpy is the core library for scientific computing in Python. It provides a high-performance multidimensional array object, and tools for working with these arrays. A numpy array is a grid of values, all of the same type, and is indexed by a tuple of nonnegative integers. The number of dimensions is the rank of the array; the shape of an array is a tuple of integers giving the size of the array along each dimension.\n",
    "\n",
    "Example: np.array(#row, #column).  \n"
   ]
  },
  {
   "cell_type": "code",
   "execution_count": null,
   "metadata": {
    "tags": []
   },
   "outputs": [],
   "source": [
    "# importing numpy\n",
    "import numpy as np\n",
    "\n",
    "a = np.zeros((2,2))   # Create an array of all zeros\n",
    "print('a is \\n', a)             \n",
    "\n",
    "b = np.ones((3,3))    # Create an array of all ones\n",
    "print('b is \\n', b)             \n",
    "\n",
    "c = np.full((5,2), 28)  # Create a constant array\n",
    "print('c is \\n', c)               \n",
    "\n",
    "d = np.eye(2)         # Create a 2x2 identity matrix\n",
    "print('d is \\n', d)             \n",
    "\n",
    "e = np.random.random((3,3))  # Create an array filled with random floats between [0.0, 1.0)\n",
    "print('e is \\n', e)\n",
    "\n",
    "f = np.random.randint(5, size=(2, 4))  # Generate a 2x4 array of ints between 0 and 5, excluding 5.\n",
    "print('f is \\n', f) \n"
   ]
  },
  {
   "cell_type": "markdown",
   "metadata": {},
   "source": [
    "#### Slicing: we must specify a slice for each dimension of the array:"
   ]
  },
  {
   "cell_type": "code",
   "execution_count": null,
   "metadata": {
    "tags": []
   },
   "outputs": [],
   "source": [
    "# slicing\n",
    "print(e[0:2,:]) # first two rows\n",
    "\n",
    "print(e[1:3,0:2]) #first two elements of the 2nd and 3rd rows\n",
    "\n",
    "print(e[:,:]) # entire array"
   ]
  },
  {
   "cell_type": "code",
   "execution_count": null,
   "metadata": {},
   "outputs": [],
   "source": [
    "#### ADD YOUR CODE HERE\n",
    "\n",
    "# Print the 3rd value in the 1st row of array f\n",
    "\n",
    "# Print the last value of the last row in array e\n",
    "\n"
   ]
  },
  {
   "cell_type": "markdown",
   "metadata": {},
   "source": [
    "### Lists\n",
    "A list is a collection which is ordered and changeable. Lists are represented by brackets. Lists can be indexed and sliced too!\n"
   ]
  },
  {
   "cell_type": "code",
   "execution_count": null,
   "metadata": {
    "tags": []
   },
   "outputs": [],
   "source": [
    "# list example\n",
    "lst = ['banana', 'apple', 'grape', 'lime', 'lime']\n",
    "\n",
    "# print len\n",
    "print(len(lst))\n",
    "\n",
    "# access list item\n",
    "print(lst[0],lst[2])\n",
    "\n",
    "# Negative indexing means beginning from the end, -1 refers to the last item\n",
    "print(lst[-1])\n",
    "\n",
    "# changing list value\n",
    "lst[2] = 'horse'\n",
    "print(lst)\n",
    "\n",
    "# add item to list\n",
    "lst.append('watermelon sugar')\n",
    "print(lst)\n",
    "\n",
    "# remove item from list\n",
    "lst.remove('horse')\n",
    "print(lst)\n",
    "\n",
    "# join two lists\n",
    "lst2 = ['yellow', 'red', 'purple', 'green']\n",
    "lst3 = lst + lst2\n",
    "print(lst3)\n"
   ]
  },
  {
   "cell_type": "code",
   "execution_count": null,
   "metadata": {},
   "outputs": [],
   "source": [
    "#### ADD YOUR CODE HERE\n",
    "\n",
    "# Create a list with 6 elements\n",
    "\n",
    "# Print the 5th value in list\n",
    "\n",
    "# Print the last value in the list\n",
    "\n",
    "# Create another list of 2 elements\n",
    "\n",
    "# Add the last element of your first list to your second list\n",
    "\n",
    "# Add the first element of the first list to the second place in your second list"
   ]
  },
  {
   "cell_type": "code",
   "execution_count": null,
   "metadata": {},
   "outputs": [],
   "source": [
    "# Create a list with 6 elements\n",
    "my_list = ['COZY','Run the world','Single Ladies', 'CUFF IT','Halo','ENERGY']\n",
    "\n",
    "# Print the 5th value in list\n",
    "print(my_list[4])\n",
    "\n",
    "# Print the last value in the list\n",
    "print(my_list[-1])\n",
    "\n",
    "# Create another list of 2 elements\n",
    "my_list1 = ['Bills','Beautiful Liar']\n",
    "\n",
    "# Add the last element of your first list to your second list\n",
    "# my_list.append(my_list1[-1])\n",
    "# print(my_list)\n",
    "\n",
    "my_list1.append(my_list[-1])\n",
    "print(my_list1)\n",
    "\n",
    "# Add the first element of the first list to the second place in your second list\n",
    "my_list1[1] = my_list[0]\n",
    "print(my_list1)"
   ]
  },
  {
   "cell_type": "markdown",
   "metadata": {},
   "source": [
    "### Tuple \n",
    "A tuple is a collection which is ordered and unchangeable. In Python tuples are written with parentheses.  \n",
    "Tuples are unchangeable, so you cannot remove items from them, but you can delete the tuple completely"
   ]
  },
  {
   "cell_type": "code",
   "execution_count": null,
   "metadata": {
    "tags": []
   },
   "outputs": [],
   "source": [
    "# example\n",
    "tpl = ('banana', 'apple', 'grape', 'lime')\n",
    "\n",
    "# print len\n",
    "print(len(tpl))\n",
    "\n",
    "# access items\n",
    "print(tpl[3]) #lime\n",
    "\n",
    "# example\n",
    "tpl2 = ('banana', 'apple','banana','banana','apple','apple','apple','banana','apple','banana','banana','banana','banana', 'grape','grape','grape','grape', 'lime')\n",
    "\n",
    "# use method count\n",
    "print(tpl2.count('banana'))\n",
    "print(tpl2.count('apple'))\n",
    "print(tpl2.count('lime'))\n",
    "\n",
    "# index\n",
    "print(tpl2.index('grape')) # return the index of the first grape in order"
   ]
  },
  {
   "cell_type": "markdown",
   "metadata": {},
   "source": [
    "### Set\n",
    "A set stores a collection of items which is unordered, unchangeable, and unindexed. It **cannot** store duplicates, but it can contain items of different data types. Sets are written with curly brackets, `{}`, and items are separated with commas."
   ]
  },
  {
   "cell_type": "code",
   "execution_count": null,
   "metadata": {},
   "outputs": [],
   "source": [
    "# example\n",
    "set_ex = {'a', 'b', 3, ('c', 2)}\n",
    "\n",
    "# print the set\n",
    "print(f'set_ex: {set_ex}')\n",
    "\n",
    "# print the length of the set\n",
    "print(len(set_ex))\n",
    "\n",
    "# pop first element in the set and see how the set changes\n",
    "print(f'set_ex: {set_ex}')\n",
    "popped = set_ex.pop()\n",
    "print(f'popped: {popped}')\n",
    "print(f'set_ex: {set_ex}')"
   ]
  },
  {
   "cell_type": "markdown",
   "metadata": {},
   "source": [
    "### Dictionary\n",
    "A dictionary is a collection which is unordered, changeable and indexed. In Python dictionaries are written with curly brackets, and they have keys and values.  \n",
    "\n",
    "The zip() function returns a zip object, which is an iterator of tuples where the first item in each passed iterator is paired together, and then the second item in each passed iterator are paired together etc."
   ]
  },
  {
   "cell_type": "code",
   "execution_count": null,
   "metadata": {
    "tags": []
   },
   "outputs": [],
   "source": [
    "d = {\"mollie\": \"PhD student\", \"rebecca\": \"PhD student\", \"Mirela\":\"professor\", \"Julio\": \"postdoc\"}\n",
    "\n",
    "print(d['mollie'])\n",
    "\n",
    "# converting lists to dictionary using zips\n",
    "lst = ['banana', 'apple', 'grape', 'lime']\n",
    "lst2 = ['yellow', 'red', 'purple', 'green']\n",
    "\n",
    "dictionary = dict(zip(lst, lst2)) \n",
    "\n",
    "print(dictionary)\n",
    "\n",
    "# checking for individual fruit color\n",
    "print(dictionary['grape'])"
   ]
  },
  {
   "cell_type": "code",
   "execution_count": null,
   "metadata": {},
   "outputs": [],
   "source": [
    "dictionary.keys()"
   ]
  },
  {
   "cell_type": "code",
   "execution_count": null,
   "metadata": {},
   "outputs": [],
   "source": [
    "#### ADD YOUR CODE HERE\n",
    "\n",
    "# Create your own dictionary with 4 elements\n",
    "\n",
    "# Use a key to get a value\n",
    "\n",
    "# Add an element to the dictionary\n"
   ]
  },
  {
   "cell_type": "markdown",
   "metadata": {},
   "source": [
    "## Conditional statements in Python\n",
    "\n",
    "### indentation:\n",
    "Python relies on indentation (whitespace at the beginning of a line) to define scope in the code\n"
   ]
  },
  {
   "cell_type": "code",
   "execution_count": null,
   "metadata": {
    "tags": []
   },
   "outputs": [],
   "source": [
    "a = 2500\n",
    "b = 2352\n",
    "\n",
    "if b > a:\n",
    "    print(\"b is greater than a\")\n",
    "elif b < a: \n",
    "    print(\"b is smaller than a\")\n",
    "elif a == b:\n",
    "    print('b equals to a')\n",
    "else:\n",
    "    print('something is going on!')\n",
    "\n",
    "\n",
    "if 1 == 2:\n",
    "    print('hmmm, something is weird')\n",
    "elif 1 == 1:\n",
    "    print('Nice!')\n",
    "else:\n",
    "    print('what is going on with my code??')\n",
    "    \n"
   ]
  },
  {
   "cell_type": "code",
   "execution_count": null,
   "metadata": {},
   "outputs": [],
   "source": [
    "c = 3442\n",
    "\n",
    "if a > b or a > c:\n",
    "  print(\"At least one of the conditions is True\")\n",
    "else:\n",
    "    print(\"no statements are true\")"
   ]
  },
  {
   "cell_type": "code",
   "execution_count": null,
   "metadata": {},
   "outputs": [],
   "source": [
    "\n",
    "\n",
    "if a > b and b > c:\n",
    "    print(\"Both conditions are True\")\n",
    "else:\n",
    "    print('at least one of the conditions is not true!')"
   ]
  },
  {
   "cell_type": "code",
   "execution_count": null,
   "metadata": {},
   "outputs": [],
   "source": [
    "#### ADD YOUR CODE HERE\n",
    "\n",
    "# Write an IF ELSE statment using ==\n",
    "\n",
    "# Write an IF ELIF ELSE statement using AND\n",
    "\n",
    "# Write an IF ELIF ELSE statement using 3 Boolean expressions"
   ]
  },
  {
   "cell_type": "markdown",
   "metadata": {},
   "source": [
    "## FOR and WHILE loops in python  \n",
    "### FOR loop\n",
    "A for loop is used for iterating over a sequence (that is either a list, a tuple, a dictionary, a set, or a string)."
   ]
  },
  {
   "cell_type": "code",
   "execution_count": null,
   "metadata": {
    "tags": []
   },
   "outputs": [],
   "source": [
    "# use our lists\n",
    "lst = ['banana', 'apple', 'grape', 'lime']\n",
    "lst2 = ['yellow', 'red', 'purple', 'green']\n",
    "\n",
    "for i in lst:\n",
    "    print(i)\n",
    "    "
   ]
  },
  {
   "cell_type": "code",
   "execution_count": null,
   "metadata": {
    "tags": []
   },
   "outputs": [],
   "source": [
    "# print creting a message using two lists and their\n",
    "ind = range(0,len(lst)) # create a list with items position\n",
    "\n",
    "# for loop with .format and indexing\n",
    "for i in ind:\n",
    "    print('{0} is {1}'.format(lst[i],lst2[i]))"
   ]
  },
  {
   "cell_type": "code",
   "execution_count": null,
   "metadata": {
    "tags": []
   },
   "outputs": [],
   "source": [
    "# add conditional to for loops\n",
    "a = 10\n",
    "b = 5\n",
    "\n",
    "# if else\n",
    "if a > b:\n",
    "    for i in ind:\n",
    "        print('{0} is {1}'.format(lst[i],lst2[i]))\n",
    "else:\n",
    "    print ('a is smaller than b')"
   ]
  },
  {
   "cell_type": "code",
   "execution_count": null,
   "metadata": {
    "tags": []
   },
   "outputs": [],
   "source": [
    "# Conditional using operators\n",
    "for i in lst:\n",
    "    if i != 'lime':\n",
    "        print('I love {0} with Nutella'.format(i))\n",
    "    else:\n",
    "        print('{0} with Nutella is not that good..'.format(i))"
   ]
  },
  {
   "cell_type": "code",
   "execution_count": null,
   "metadata": {},
   "outputs": [],
   "source": [
    "#### ADD YOUR CODE HERE\n",
    "\n",
    "# Write a FOR loop to print every number 0-10\n",
    "\n",
    "# Write a FOR loop to print every even number 0-10 (hint: use conditional statements)"
   ]
  },
  {
   "cell_type": "markdown",
   "metadata": {},
   "source": [
    "### WHILE Loop  \n",
    "With the while loop we can execute a set of statements as long as a condition is true."
   ]
  },
  {
   "cell_type": "code",
   "execution_count": null,
   "metadata": {
    "tags": []
   },
   "outputs": [],
   "source": [
    "# while example\n",
    "i = 1\n",
    "while i < 12:\n",
    "  print(i)\n",
    "  i += 1 # i = i + 1   "
   ]
  },
  {
   "cell_type": "code",
   "execution_count": null,
   "metadata": {
    "tags": []
   },
   "outputs": [],
   "source": [
    "# break the loop based on a condition\n",
    "i = 1\n",
    "while i < 12:\n",
    "  print(i)\n",
    "  if i == 7:\n",
    "    break\n",
    "  i += 1"
   ]
  },
  {
   "cell_type": "code",
   "execution_count": null,
   "metadata": {
    "tags": []
   },
   "outputs": [],
   "source": [
    "# continue the loop based on a condition\n",
    "i = 0\n",
    "while i < 6:\n",
    "  i += 1\n",
    "  if i == 2:\n",
    "    continue\n",
    "  print(i)"
   ]
  },
  {
   "cell_type": "code",
   "execution_count": null,
   "metadata": {},
   "outputs": [],
   "source": [
    "#### ADD YOUR CODE HERE\n",
    "\n",
    "# Write a WHILE loop to print every number 0-10\n",
    "\n",
    "# Write a WHILE loop to print every even number 0-10 using BREAK or CONTINUE"
   ]
  },
  {
   "cell_type": "markdown",
   "metadata": {},
   "source": [
    "### Functions\n",
    "Functions are very useful for *readability* and *replicability* of our code. They allow us to set aside a section of code that we want to use more than once, so that we do not have to type it out multiple times - thus reducing the total length of our code.\n",
    "\n",
    "A function is built with a `def` keyword, a function name, and arguments in parentheses. Arguments may not be necesary for a function, but the parenteses are! Functions are called using the function name and, depending on the function, arguments.\n",
    "\n",
    "It is good practice to set the data type for your arguments and to have a description of the function in block quotes (`''' '''`).\n",
    "\n",
    "For example, we below we have a function to calculate the square of a number."
   ]
  },
  {
   "cell_type": "code",
   "execution_count": null,
   "metadata": {},
   "outputs": [],
   "source": [
    "# def funtion_name(argument=datatype):\n",
    "#   ''' Doc string '''\n",
    "#   BODY OF CODE\n",
    "#   return(OUTPUT)\n",
    "\n",
    "def square_int(num=int):\n",
    "    '''\n",
    "        Returns the square of an integer.\n",
    "    '''\n",
    "    square = num * num\n",
    "    return(square)"
   ]
  },
  {
   "cell_type": "code",
   "execution_count": null,
   "metadata": {},
   "outputs": [],
   "source": [
    "# test our function\n",
    "n = square_int(2)\n",
    "print(f'the square of 2 is {n}')"
   ]
  },
  {
   "cell_type": "code",
   "execution_count": null,
   "metadata": {},
   "outputs": [],
   "source": [
    "#### ADD YOUR CODE HERE\n",
    "\n",
    "# Write a function that calculates the third side of a triangle\n",
    "# (hint: you will need to import the math module)"
   ]
  },
  {
   "cell_type": "markdown",
   "metadata": {},
   "source": [
    "### Enumerate function  \n",
    "Very useful but not that famous like other built in functions in python.  \n",
    "This function allows us to loop through something and have an automatic counter.  \n",
    "  \n",
    "For instance, let's say we have a list of CSV files that we need to loop through. We need to extract the CSV filename and use a counter to loop through the list. \n"
   ]
  },
  {
   "cell_type": "code",
   "execution_count": null,
   "metadata": {
    "tags": []
   },
   "outputs": [],
   "source": [
    "lst = ['project_out.csv','spectral_reflectance.csv','model_1_result.csv','final_dataframe.csv']\n",
    "\n",
    "for counter, csv_file in enumerate(lst):\n",
    "    print(counter, csv_file)"
   ]
  },
  {
   "cell_type": "code",
   "execution_count": null,
   "metadata": {},
   "outputs": [],
   "source": []
  }
 ],
 "metadata": {
  "kernelspec": {
   "display_name": "Python 3.8.10 ('GIS712')",
   "language": "python",
   "name": "python3"
  },
  "language_info": {
   "codemirror_mode": {
    "name": "ipython",
    "version": 3
   },
   "file_extension": ".py",
   "mimetype": "text/x-python",
   "name": "python",
   "nbconvert_exporter": "python",
   "pygments_lexer": "ipython3",
   "version": "3.8.10"
  },
  "orig_nbformat": 2,
  "vscode": {
   "interpreter": {
    "hash": "fd7dd22ccd1a553d96c0e2864d9229bd5298d8e3403997c01634144b89db9476"
   }
  }
 },
 "nbformat": 4,
 "nbformat_minor": 2
}
